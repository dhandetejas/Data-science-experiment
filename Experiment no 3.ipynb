{
 "cells": [
  {
   "cell_type": "code",
   "execution_count": 1,
   "id": "d31215d3-fa45-4787-8547-2f333d8499d9",
   "metadata": {},
   "outputs": [],
   "source": [
    "#Experiment no.3"
   ]
  },
  {
   "cell_type": "code",
   "execution_count": 2,
   "id": "8c868321-2054-4f79-a316-88594a918741",
   "metadata": {},
   "outputs": [],
   "source": [
    "#Aim: To perform operations on Central tendency of measures"
   ]
  },
  {
   "cell_type": "code",
   "execution_count": 3,
   "id": "0c6a3169-3e1e-4c31-82f9-743d5bfc252b",
   "metadata": {},
   "outputs": [],
   "source": [
    "#Name:Tejas s Dhande\n",
    "#Roll no.:11\n",
    "#sec:A\n",
    "#sub:ET 1\n",
    "#date:06-10-2025"
   ]
  },
  {
   "cell_type": "code",
   "execution_count": 5,
   "id": "b8e220ec-707c-4609-83fc-ddf053b07410",
   "metadata": {},
   "outputs": [],
   "source": [
    "age=[20,22,20,23,25,23,24,25,26,28,27,29,25,20]"
   ]
  },
  {
   "cell_type": "code",
   "execution_count": 6,
   "id": "176d07b4-02cd-415a-aea1-5fa0000c97db",
   "metadata": {},
   "outputs": [
    {
     "name": "stdout",
     "output_type": "stream",
     "text": [
      "[20, 22, 20, 23, 25, 23, 24, 25, 26, 28, 27, 29, 25, 20]\n"
     ]
    }
   ],
   "source": [
    "print(age)"
   ]
  },
  {
   "cell_type": "code",
   "execution_count": 7,
   "id": "6bcef208-d764-4f88-b69a-da70df961338",
   "metadata": {},
   "outputs": [],
   "source": [
    "import statistics as stats"
   ]
  },
  {
   "cell_type": "code",
   "execution_count": 8,
   "id": "6b892335-48f0-440c-a5b1-c3931edbcc65",
   "metadata": {},
   "outputs": [],
   "source": [
    "a=stats.mean(age)"
   ]
  },
  {
   "cell_type": "code",
   "execution_count": 9,
   "id": "3d361401-8328-4e4f-b970-3e714ff2cb07",
   "metadata": {},
   "outputs": [
    {
     "data": {
      "text/plain": [
       "24.071428571428573"
      ]
     },
     "execution_count": 9,
     "metadata": {},
     "output_type": "execute_result"
    }
   ],
   "source": [
    "a"
   ]
  },
  {
   "cell_type": "code",
   "execution_count": 10,
   "id": "6c13b80f-b139-438d-b1b0-717ec81bd34b",
   "metadata": {},
   "outputs": [],
   "source": [
    "b=stats.median(age)"
   ]
  },
  {
   "cell_type": "code",
   "execution_count": 11,
   "id": "74630f0c-56a5-474a-976b-6413760cf4ea",
   "metadata": {},
   "outputs": [
    {
     "data": {
      "text/plain": [
       "24.5"
      ]
     },
     "execution_count": 11,
     "metadata": {},
     "output_type": "execute_result"
    }
   ],
   "source": [
    "b"
   ]
  },
  {
   "cell_type": "code",
   "execution_count": 12,
   "id": "9f042f71-9920-40a1-b6fe-6bd85d5f88b8",
   "metadata": {},
   "outputs": [],
   "source": [
    "c=stats.mode(age)"
   ]
  },
  {
   "cell_type": "code",
   "execution_count": 13,
   "id": "9199abcc-3021-4287-9bf9-4636af2c96d0",
   "metadata": {},
   "outputs": [
    {
     "data": {
      "text/plain": [
       "20"
      ]
     },
     "execution_count": 13,
     "metadata": {},
     "output_type": "execute_result"
    }
   ],
   "source": [
    "c"
   ]
  },
  {
   "cell_type": "code",
   "execution_count": 14,
   "id": "27767cbe-e0a2-4874-a51a-6c4b93756261",
   "metadata": {},
   "outputs": [],
   "source": [
    "import numpy as np"
   ]
  },
  {
   "cell_type": "code",
   "execution_count": 15,
   "id": "394fe7c5-1815-4b9a-ae80-b780e4af56f5",
   "metadata": {},
   "outputs": [],
   "source": [
    "x=np.array([2,5,6,4,6,4,6,8,9,5,7,5,3,2,4,5,6,7,8,7,5,])"
   ]
  },
  {
   "cell_type": "code",
   "execution_count": 16,
   "id": "ed7a69e5-3af8-456f-94c3-cc486342556a",
   "metadata": {},
   "outputs": [
    {
     "data": {
      "text/plain": [
       "array([2, 5, 6, 4, 6, 4, 6, 8, 9, 5, 7, 5, 3, 2, 4, 5, 6, 7, 8, 7, 5])"
      ]
     },
     "execution_count": 16,
     "metadata": {},
     "output_type": "execute_result"
    }
   ],
   "source": [
    "x"
   ]
  },
  {
   "cell_type": "code",
   "execution_count": 17,
   "id": "064f7137-ae67-4221-9d6a-1d59d06c394d",
   "metadata": {},
   "outputs": [
    {
     "name": "stdout",
     "output_type": "stream",
     "text": [
      "5.428571428571429\n"
     ]
    }
   ],
   "source": [
    "print(np.mean(x))"
   ]
  },
  {
   "cell_type": "code",
   "execution_count": 18,
   "id": "171b83f5-ba17-46db-a2a2-717883d70d38",
   "metadata": {},
   "outputs": [
    {
     "name": "stdout",
     "output_type": "stream",
     "text": [
      "5.0\n"
     ]
    }
   ],
   "source": [
    "print(np.median(x))"
   ]
  },
  {
   "cell_type": "code",
   "execution_count": 19,
   "id": "1ca8c0ce-89dd-49b0-a762-2687dec9c2df",
   "metadata": {},
   "outputs": [],
   "source": [
    "from scipy import stats"
   ]
  },
  {
   "cell_type": "code",
   "execution_count": 20,
   "id": "97b9cbc8-8a16-4ec8-b0b4-6b98832bfd5c",
   "metadata": {},
   "outputs": [
    {
     "name": "stdout",
     "output_type": "stream",
     "text": [
      "ModeResult(mode=np.int64(5), count=np.int64(5))\n"
     ]
    }
   ],
   "source": [
    "print(stats.mode(x))"
   ]
  },
  {
   "cell_type": "code",
   "execution_count": 23,
   "id": "b7a316b3-bbcb-4d4d-adc1-fa685b824a00",
   "metadata": {},
   "outputs": [
    {
     "name": "stdout",
     "output_type": "stream",
     "text": [
      "1.8405855323893037\n"
     ]
    }
   ],
   "source": [
    "print(np.std(x))  # measure of variance"
   ]
  },
  {
   "cell_type": "code",
   "execution_count": 24,
   "id": "8763be70-f638-44a0-9bd7-a247f8a5ae49",
   "metadata": {},
   "outputs": [
    {
     "name": "stdout",
     "output_type": "stream",
     "text": [
      "3.387755102040816\n"
     ]
    }
   ],
   "source": [
    "print(np.var(x))"
   ]
  },
  {
   "cell_type": "code",
   "execution_count": null,
   "id": "3c535dea-56a1-4f65-bba4-0c40349962db",
   "metadata": {},
   "outputs": [],
   "source": []
  }
 ],
 "metadata": {
  "kernelspec": {
   "display_name": "Python [conda env:base] *",
   "language": "python",
   "name": "conda-base-py"
  },
  "language_info": {
   "codemirror_mode": {
    "name": "ipython",
    "version": 3
   },
   "file_extension": ".py",
   "mimetype": "text/x-python",
   "name": "python",
   "nbconvert_exporter": "python",
   "pygments_lexer": "ipython3",
   "version": "3.13.5"
  }
 },
 "nbformat": 4,
 "nbformat_minor": 5
}
